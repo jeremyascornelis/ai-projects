{
 "cells": [
  {
   "cell_type": "markdown",
   "metadata": {},
   "source": [
    "# Importing and Preprocessing"
   ]
  },
  {
   "cell_type": "code",
   "execution_count": null,
   "metadata": {
    "execution": {
     "iopub.execute_input": "2022-07-30T07:09:17.414175Z",
     "iopub.status.busy": "2022-07-30T07:09:17.413774Z",
     "iopub.status.idle": "2022-07-30T07:09:17.453811Z",
     "shell.execute_reply": "2022-07-30T07:09:17.452673Z",
     "shell.execute_reply.started": "2022-07-30T07:09:17.414094Z"
    }
   },
   "outputs": [],
   "source": [
    "import numpy as np # linear algebra\n",
    "import pandas as pd # data processing, CSV file I/O (e.g. pd.read_csv)\n",
    "\n",
    "import os\n",
    "for dirname, _, filenames in os.walk('/kaggle/input'):\n",
    "    for filename in filenames:\n",
    "        print(os.path.join(dirname, filename))"
   ]
  },
  {
   "cell_type": "code",
   "execution_count": 1,
   "metadata": {
    "execution": {
     "iopub.execute_input": "2022-07-30T07:09:17.455724Z",
     "iopub.status.busy": "2022-07-30T07:09:17.455508Z",
     "iopub.status.idle": "2022-07-30T07:09:25.094107Z",
     "shell.execute_reply": "2022-07-30T07:09:25.092793Z",
     "shell.execute_reply.started": "2022-07-30T07:09:17.455702Z"
    }
   },
   "outputs": [
    {
     "name": "stderr",
     "output_type": "stream",
     "text": [
      "C:\\Users\\Jeremyas Cornelis\\anaconda3\\lib\\site-packages\\scipy\\__init__.py:138: UserWarning: A NumPy version >=1.16.5 and <1.23.0 is required for this version of SciPy (detected version 1.23.3)\n",
      "  warnings.warn(f\"A NumPy version >={np_minversion} and <{np_maxversion} is required for this version of \"\n"
     ]
    }
   ],
   "source": [
    "import pandas as pd\n",
    "from sklearn.cluster import KMeans\n",
    "\n",
    "import matplotlib.pyplot as plt\n",
    "import seaborn as sns\n",
    "\n",
    "from sklearn.preprocessing import StandardScaler\n",
    "\n",
    "from sklearn.cluster import KMeans\n",
    "\n",
    "# import warnings\n",
    "# warnings.filterwarnings(\"ignore\")"
   ]
  },
  {
   "cell_type": "code",
   "execution_count": 2,
   "metadata": {
    "execution": {
     "iopub.execute_input": "2022-07-30T07:09:25.096043Z",
     "iopub.status.busy": "2022-07-30T07:09:25.095548Z",
     "iopub.status.idle": "2022-07-30T07:09:25.112942Z",
     "shell.execute_reply": "2022-07-30T07:09:25.112104Z",
     "shell.execute_reply.started": "2022-07-30T07:09:25.096018Z"
    }
   },
   "outputs": [],
   "source": [
    "df=pd.read_csv('survey-lung-cancer.csv')"
   ]
  },
  {
   "cell_type": "code",
   "execution_count": 3,
   "metadata": {
    "execution": {
     "iopub.execute_input": "2022-07-30T07:09:25.11576Z",
     "iopub.status.busy": "2022-07-30T07:09:25.115271Z",
     "iopub.status.idle": "2022-07-30T07:09:25.139589Z",
     "shell.execute_reply": "2022-07-30T07:09:25.138809Z",
     "shell.execute_reply.started": "2022-07-30T07:09:25.115732Z"
    }
   },
   "outputs": [
    {
     "data": {
      "text/html": [
       "<div>\n",
       "<style scoped>\n",
       "    .dataframe tbody tr th:only-of-type {\n",
       "        vertical-align: middle;\n",
       "    }\n",
       "\n",
       "    .dataframe tbody tr th {\n",
       "        vertical-align: top;\n",
       "    }\n",
       "\n",
       "    .dataframe thead th {\n",
       "        text-align: right;\n",
       "    }\n",
       "</style>\n",
       "<table border=\"1\" class=\"dataframe\">\n",
       "  <thead>\n",
       "    <tr style=\"text-align: right;\">\n",
       "      <th></th>\n",
       "      <th>GENDER</th>\n",
       "      <th>AGE</th>\n",
       "      <th>SMOKING</th>\n",
       "      <th>YELLOW_FINGERS</th>\n",
       "      <th>ANXIETY</th>\n",
       "      <th>PEER_PRESSURE</th>\n",
       "      <th>CHRONIC DISEASE</th>\n",
       "      <th>FATIGUE</th>\n",
       "      <th>ALLERGY</th>\n",
       "      <th>WHEEZING</th>\n",
       "      <th>ALCOHOL CONSUMING</th>\n",
       "      <th>COUGHING</th>\n",
       "      <th>SHORTNESS OF BREATH</th>\n",
       "      <th>SWALLOWING DIFFICULTY</th>\n",
       "      <th>CHEST PAIN</th>\n",
       "      <th>LUNG_CANCER</th>\n",
       "    </tr>\n",
       "  </thead>\n",
       "  <tbody>\n",
       "    <tr>\n",
       "      <th>0</th>\n",
       "      <td>M</td>\n",
       "      <td>69</td>\n",
       "      <td>1</td>\n",
       "      <td>2</td>\n",
       "      <td>2</td>\n",
       "      <td>1</td>\n",
       "      <td>1</td>\n",
       "      <td>2</td>\n",
       "      <td>1</td>\n",
       "      <td>2</td>\n",
       "      <td>2</td>\n",
       "      <td>2</td>\n",
       "      <td>2</td>\n",
       "      <td>2</td>\n",
       "      <td>2</td>\n",
       "      <td>YES</td>\n",
       "    </tr>\n",
       "    <tr>\n",
       "      <th>1</th>\n",
       "      <td>M</td>\n",
       "      <td>74</td>\n",
       "      <td>2</td>\n",
       "      <td>1</td>\n",
       "      <td>1</td>\n",
       "      <td>1</td>\n",
       "      <td>2</td>\n",
       "      <td>2</td>\n",
       "      <td>2</td>\n",
       "      <td>1</td>\n",
       "      <td>1</td>\n",
       "      <td>1</td>\n",
       "      <td>2</td>\n",
       "      <td>2</td>\n",
       "      <td>2</td>\n",
       "      <td>YES</td>\n",
       "    </tr>\n",
       "    <tr>\n",
       "      <th>2</th>\n",
       "      <td>F</td>\n",
       "      <td>59</td>\n",
       "      <td>1</td>\n",
       "      <td>1</td>\n",
       "      <td>1</td>\n",
       "      <td>2</td>\n",
       "      <td>1</td>\n",
       "      <td>2</td>\n",
       "      <td>1</td>\n",
       "      <td>2</td>\n",
       "      <td>1</td>\n",
       "      <td>2</td>\n",
       "      <td>2</td>\n",
       "      <td>1</td>\n",
       "      <td>2</td>\n",
       "      <td>NO</td>\n",
       "    </tr>\n",
       "    <tr>\n",
       "      <th>3</th>\n",
       "      <td>M</td>\n",
       "      <td>63</td>\n",
       "      <td>2</td>\n",
       "      <td>2</td>\n",
       "      <td>2</td>\n",
       "      <td>1</td>\n",
       "      <td>1</td>\n",
       "      <td>1</td>\n",
       "      <td>1</td>\n",
       "      <td>1</td>\n",
       "      <td>2</td>\n",
       "      <td>1</td>\n",
       "      <td>1</td>\n",
       "      <td>2</td>\n",
       "      <td>2</td>\n",
       "      <td>NO</td>\n",
       "    </tr>\n",
       "    <tr>\n",
       "      <th>4</th>\n",
       "      <td>F</td>\n",
       "      <td>63</td>\n",
       "      <td>1</td>\n",
       "      <td>2</td>\n",
       "      <td>1</td>\n",
       "      <td>1</td>\n",
       "      <td>1</td>\n",
       "      <td>1</td>\n",
       "      <td>1</td>\n",
       "      <td>2</td>\n",
       "      <td>1</td>\n",
       "      <td>2</td>\n",
       "      <td>2</td>\n",
       "      <td>1</td>\n",
       "      <td>1</td>\n",
       "      <td>NO</td>\n",
       "    </tr>\n",
       "  </tbody>\n",
       "</table>\n",
       "</div>"
      ],
      "text/plain": [
       "  GENDER  AGE  SMOKING  YELLOW_FINGERS  ANXIETY  PEER_PRESSURE  \\\n",
       "0      M   69        1               2        2              1   \n",
       "1      M   74        2               1        1              1   \n",
       "2      F   59        1               1        1              2   \n",
       "3      M   63        2               2        2              1   \n",
       "4      F   63        1               2        1              1   \n",
       "\n",
       "   CHRONIC DISEASE  FATIGUE   ALLERGY   WHEEZING  ALCOHOL CONSUMING  COUGHING  \\\n",
       "0                1         2         1         2                  2         2   \n",
       "1                2         2         2         1                  1         1   \n",
       "2                1         2         1         2                  1         2   \n",
       "3                1         1         1         1                  2         1   \n",
       "4                1         1         1         2                  1         2   \n",
       "\n",
       "   SHORTNESS OF BREATH  SWALLOWING DIFFICULTY  CHEST PAIN LUNG_CANCER  \n",
       "0                    2                      2           2         YES  \n",
       "1                    2                      2           2         YES  \n",
       "2                    2                      1           2          NO  \n",
       "3                    1                      2           2          NO  \n",
       "4                    2                      1           1          NO  "
      ]
     },
     "execution_count": 3,
     "metadata": {},
     "output_type": "execute_result"
    }
   ],
   "source": [
    "df.head()"
   ]
  },
  {
   "cell_type": "code",
   "execution_count": 4,
   "metadata": {
    "execution": {
     "iopub.execute_input": "2022-07-30T07:09:25.140822Z",
     "iopub.status.busy": "2022-07-30T07:09:25.140505Z",
     "iopub.status.idle": "2022-07-30T07:09:25.162628Z",
     "shell.execute_reply": "2022-07-30T07:09:25.16144Z",
     "shell.execute_reply.started": "2022-07-30T07:09:25.140801Z"
    }
   },
   "outputs": [
    {
     "name": "stdout",
     "output_type": "stream",
     "text": [
      "<class 'pandas.core.frame.DataFrame'>\n",
      "RangeIndex: 309 entries, 0 to 308\n",
      "Data columns (total 16 columns):\n",
      " #   Column                 Non-Null Count  Dtype \n",
      "---  ------                 --------------  ----- \n",
      " 0   GENDER                 309 non-null    object\n",
      " 1   AGE                    309 non-null    int64 \n",
      " 2   SMOKING                309 non-null    int64 \n",
      " 3   YELLOW_FINGERS         309 non-null    int64 \n",
      " 4   ANXIETY                309 non-null    int64 \n",
      " 5   PEER_PRESSURE          309 non-null    int64 \n",
      " 6   CHRONIC DISEASE        309 non-null    int64 \n",
      " 7   FATIGUE                309 non-null    int64 \n",
      " 8   ALLERGY                309 non-null    int64 \n",
      " 9   WHEEZING               309 non-null    int64 \n",
      " 10  ALCOHOL CONSUMING      309 non-null    int64 \n",
      " 11  COUGHING               309 non-null    int64 \n",
      " 12  SHORTNESS OF BREATH    309 non-null    int64 \n",
      " 13  SWALLOWING DIFFICULTY  309 non-null    int64 \n",
      " 14  CHEST PAIN             309 non-null    int64 \n",
      " 15  LUNG_CANCER            309 non-null    object\n",
      "dtypes: int64(14), object(2)\n",
      "memory usage: 38.8+ KB\n"
     ]
    }
   ],
   "source": [
    "df.info()"
   ]
  },
  {
   "cell_type": "code",
   "execution_count": 5,
   "metadata": {
    "execution": {
     "iopub.execute_input": "2022-07-30T07:09:25.163978Z",
     "iopub.status.busy": "2022-07-30T07:09:25.163741Z",
     "iopub.status.idle": "2022-07-30T07:09:25.171928Z",
     "shell.execute_reply": "2022-07-30T07:09:25.170977Z",
     "shell.execute_reply.started": "2022-07-30T07:09:25.163955Z"
    }
   },
   "outputs": [],
   "source": [
    "df['GENDER']=df['GENDER'].replace(['M', 'F'],[0,1])\n",
    "df['LUNG_CANCER']=df['LUNG_CANCER'].replace(['YES', 'NO'],[1,0])"
   ]
  },
  {
   "cell_type": "markdown",
   "metadata": {},
   "source": [
    "# Data outline"
   ]
  },
  {
   "cell_type": "code",
   "execution_count": 6,
   "metadata": {
    "execution": {
     "iopub.execute_input": "2022-07-30T07:09:25.173372Z",
     "iopub.status.busy": "2022-07-30T07:09:25.173116Z",
     "iopub.status.idle": "2022-07-30T07:09:25.331313Z",
     "shell.execute_reply": "2022-07-30T07:09:25.330358Z",
     "shell.execute_reply.started": "2022-07-30T07:09:25.17335Z"
    }
   },
   "outputs": [
    {
     "data": {
      "image/png": "[encoded data removed]",
      "text/plain": [
       "<Figure size 432x288 with 1 Axes>"
      ]
     },
     "metadata": {
      "needs_background": "light"
     },
     "output_type": "display_data"
    }
   ],
   "source": [
    "df.groupby('LUNG_CANCER')['LUNG_CANCER'].count().plot.bar();"
   ]
  },
  {
   "cell_type": "markdown",
   "metadata": {},
   "source": [
    "In data, lung cancer positive case are more than 5 times than negative case."
   ]
  },
  {
   "cell_type": "code",
   "execution_count": null,
   "metadata": {
    "execution": {
     "iopub.execute_input": "2022-07-30T07:09:25.333246Z",
     "iopub.status.busy": "2022-07-30T07:09:25.332757Z",
     "iopub.status.idle": "2022-07-30T07:09:28.121962Z",
     "shell.execute_reply": "2022-07-30T07:09:28.121294Z",
     "shell.execute_reply.started": "2022-07-30T07:09:25.333212Z"
    }
   },
   "outputs": [],
   "source": [
    "num_list=['GENDER', 'AGE', 'SMOKING', 'YELLOW_FINGERS', 'ANXIETY',\n",
    "       'PEER_PRESSURE', 'CHRONIC DISEASE', 'FATIGUE ', 'ALLERGY ', 'WHEEZING',\n",
    "       'ALCOHOL CONSUMING', 'COUGHING', 'SHORTNESS OF BREATH',\n",
    "       'SWALLOWING DIFFICULTY', 'CHEST PAIN']\n",
    "fig = plt.figure(figsize=(10,20))\n",
    "\n",
    "for i in range(len(num_list)):\n",
    "    plt.subplot(6,3,i+1)\n",
    "    plt.title(num_list[i])\n",
    "    sns.histplot(data=df,x=df[num_list[i]],hue='LUNG_CANCER')\n",
    "\n",
    "plt.tight_layout()"
   ]
  },
  {
   "cell_type": "markdown",
   "metadata": {},
   "source": [
    "We can find that in many cases, there are opposite trend between lung cance positive and negative except 'AGE','SMOKING' and 'SHORTNESS OF BREATH'."
   ]
  },
  {
   "cell_type": "code",
   "execution_count": null,
   "metadata": {
    "execution": {
     "iopub.execute_input": "2022-07-30T07:09:28.123862Z",
     "iopub.status.busy": "2022-07-30T07:09:28.12297Z",
     "iopub.status.idle": "2022-07-30T07:10:37.010211Z",
     "shell.execute_reply": "2022-07-30T07:10:37.009261Z",
     "shell.execute_reply.started": "2022-07-30T07:09:28.123832Z"
    }
   },
   "outputs": [],
   "source": [
    "sns.pairplot(df,hue='LUNG_CANCER');"
   ]
  },
  {
   "cell_type": "code",
   "execution_count": null,
   "metadata": {
    "execution": {
     "iopub.execute_input": "2022-07-30T07:10:37.015704Z",
     "iopub.status.busy": "2022-07-30T07:10:37.01485Z",
     "iopub.status.idle": "2022-07-30T07:10:37.958603Z",
     "shell.execute_reply": "2022-07-30T07:10:37.957638Z",
     "shell.execute_reply.started": "2022-07-30T07:10:37.015673Z"
    }
   },
   "outputs": [],
   "source": [
    "plt.figure(figsize = (15,15))\n",
    "sns.heatmap(df.corr(),annot=True, cbar=True, cmap='Blues', fmt='.1f');"
   ]
  },
  {
   "cell_type": "code",
   "execution_count": null,
   "metadata": {
    "execution": {
     "iopub.execute_input": "2022-07-30T07:10:37.959813Z",
     "iopub.status.busy": "2022-07-30T07:10:37.9596Z",
     "iopub.status.idle": "2022-07-30T07:10:37.965105Z",
     "shell.execute_reply": "2022-07-30T07:10:37.964155Z",
     "shell.execute_reply.started": "2022-07-30T07:10:37.959793Z"
    }
   },
   "outputs": [],
   "source": [
    "df.columns"
   ]
  },
  {
   "cell_type": "markdown",
   "metadata": {},
   "source": [
    "Correlation among features are\n",
    "* 'ANXIETY' and 'SWALLOWING DIFFICULTY' : 0.5\n",
    "* 'PEER_PRESSURE' and 'SWALLOWING DIFFICULTY' : 0.4\n",
    "* 'FATIGUE ' and 'SHORTNESS OF BREATH' : 0.4\n",
    "* 'GENDER' and 'CHEST PAIN' : -0.4\n",
    "* 'GENDER' and 'ALCOHOL CONSUMING' : -0.5\n",
    "\n",
    "Correlation with 'LUNG CANCER' are\n",
    "* 'ALLERGY ', 'ALCOHOL CONSUMING' and 'SWALLOWING DIFFICULTY' : 0.3\n",
    "* 'YELLOW_FINGERS', 'PEER_PRESSURE', 'FATIGUE ', 'WHEEZING', 'COUGHING' and 'CHEST PAIN' : 0.2"
   ]
  },
  {
   "cell_type": "markdown",
   "metadata": {},
   "source": [
    "# Classify Modeling by Artificial Neural Network"
   ]
  },
  {
   "cell_type": "code",
   "execution_count": null,
   "metadata": {
    "execution": {
     "iopub.execute_input": "2022-07-30T07:10:37.966262Z",
     "iopub.status.busy": "2022-07-30T07:10:37.966057Z",
     "iopub.status.idle": "2022-07-30T07:10:37.978854Z",
     "shell.execute_reply": "2022-07-30T07:10:37.978168Z",
     "shell.execute_reply.started": "2022-07-30T07:10:37.966242Z"
    }
   },
   "outputs": [],
   "source": [
    "X=df.drop(['LUNG_CANCER'],axis=1)\n",
    "y=df['LUNG_CANCER']"
   ]
  },
  {
   "cell_type": "code",
   "execution_count": null,
   "metadata": {
    "execution": {
     "iopub.execute_input": "2022-07-30T07:10:37.979761Z",
     "iopub.status.busy": "2022-07-30T07:10:37.979543Z",
     "iopub.status.idle": "2022-07-30T07:10:37.994451Z",
     "shell.execute_reply": "2022-07-30T07:10:37.993453Z",
     "shell.execute_reply.started": "2022-07-30T07:10:37.97974Z"
    }
   },
   "outputs": [],
   "source": [
    "X_train, X_test, y_train, y_test = train_test_split(X,y,test_size=0.3,random_state=42)"
   ]
  },
  {
   "cell_type": "code",
   "execution_count": null,
   "metadata": {
    "execution": {
     "iopub.execute_input": "2022-07-30T07:10:37.99707Z",
     "iopub.status.busy": "2022-07-30T07:10:37.99652Z",
     "iopub.status.idle": "2022-07-30T07:10:38.009089Z",
     "shell.execute_reply": "2022-07-30T07:10:38.007879Z",
     "shell.execute_reply.started": "2022-07-30T07:10:37.997032Z"
    }
   },
   "outputs": [],
   "source": [
    "sc = StandardScaler()\n",
    "X_train = sc.fit_transform(X_train)\n",
    "X_test = sc.transform(X_test)"
   ]
  },
  {
   "cell_type": "code",
   "execution_count": null,
   "metadata": {
    "execution": {
     "iopub.execute_input": "2022-07-30T07:10:38.010983Z",
     "iopub.status.busy": "2022-07-30T07:10:38.010706Z",
     "iopub.status.idle": "2022-07-30T07:10:43.119313Z",
     "shell.execute_reply": "2022-07-30T07:10:43.118009Z",
     "shell.execute_reply.started": "2022-07-30T07:10:38.010961Z"
    }
   },
   "outputs": [],
   "source": [
    "classifier = Sequential()\n",
    "classifier.add(Dense(units = 6, kernel_initializer = 'uniform', activation = 'relu', input_dim = 15))\n",
    "classifier.add(Dense(units = 6, kernel_initializer = 'uniform', activation = 'relu'))\n",
    "classifier.add(Dense(units = 1, kernel_initializer = 'uniform', activation = 'sigmoid'))\n",
    "classifier.compile(optimizer = 'adam', loss = 'binary_crossentropy', metrics = ['accuracy'])\n",
    "classifier.fit(X_train, y_train, batch_size = 10, epochs = 100,verbose = 0)\n",
    "\n",
    "score, acc = classifier.evaluate(X_train, y_train,\n",
    "                            batch_size=10)\n",
    "print('Train score:', score)\n",
    "print('Train accuracy:', acc)\n",
    "\n",
    "y_pred = classifier.predict(X_test)\n",
    "y_pred = (y_pred > 0.5)\n",
    "\n",
    "print('*'*20)\n",
    "score, acc = classifier.evaluate(X_test, y_test,\n",
    "                            batch_size=10)\n",
    "print('Test score:', score)\n",
    "print('Test accuracy:', acc)\n",
    "\n",
    "from sklearn.metrics import confusion_matrix\n",
    "cm = confusion_matrix(y_test, y_pred)"
   ]
  },
  {
   "cell_type": "code",
   "execution_count": null,
   "metadata": {
    "execution": {
     "iopub.execute_input": "2022-07-30T07:10:43.122762Z",
     "iopub.status.busy": "2022-07-30T07:10:43.122469Z",
     "iopub.status.idle": "2022-07-30T07:10:43.328751Z",
     "shell.execute_reply": "2022-07-30T07:10:43.327699Z",
     "shell.execute_reply.started": "2022-07-30T07:10:43.122729Z"
    }
   },
   "outputs": [],
   "source": [
    "p = sns.heatmap(pd.DataFrame(cm), annot=True, cmap=\"YlGnBu\" ,fmt=\"g\")\n",
    "plt.title('Confusion matrix', y=1.1)\n",
    "plt.ylabel('Actual label')\n",
    "plt.xlabel('Predicted label');"
   ]
  },
  {
   "cell_type": "code",
   "execution_count": null,
   "metadata": {
    "execution": {
     "iopub.execute_input": "2022-07-30T07:10:43.331495Z",
     "iopub.status.busy": "2022-07-30T07:10:43.330059Z",
     "iopub.status.idle": "2022-07-30T07:10:43.341899Z",
     "shell.execute_reply": "2022-07-30T07:10:43.340864Z",
     "shell.execute_reply.started": "2022-07-30T07:10:43.331455Z"
    }
   },
   "outputs": [],
   "source": [
    "from sklearn.metrics import classification_report\n",
    "print(classification_report(y_test,y_pred))"
   ]
  },
  {
   "cell_type": "markdown",
   "metadata": {},
   "source": [
    "In this model, we can realize high accuracy and recall to classify 'positive case'. The important thing is that how we can not miss 'positive case'. And I also looked into ROC."
   ]
  },
  {
   "cell_type": "code",
   "execution_count": null,
   "metadata": {
    "execution": {
     "iopub.execute_input": "2022-07-30T07:10:43.345144Z",
     "iopub.status.busy": "2022-07-30T07:10:43.344846Z",
     "iopub.status.idle": "2022-07-30T07:10:43.55646Z",
     "shell.execute_reply": "2022-07-30T07:10:43.555683Z",
     "shell.execute_reply.started": "2022-07-30T07:10:43.345115Z"
    }
   },
   "outputs": [],
   "source": [
    "from sklearn.metrics import roc_curve\n",
    "y_pred_proba = classifier.predict(X_test)\n",
    "fpr, tpr, thresholds = roc_curve(y_test, y_pred_proba)\n",
    "plt.plot([0,1],[0,1],'k--')\n",
    "plt.plot(fpr,tpr, label='ANN')\n",
    "plt.xlabel('fpr')\n",
    "plt.ylabel('tpr')\n",
    "plt.title('ROC curve')\n",
    "plt.show()"
   ]
  },
  {
   "cell_type": "code",
   "execution_count": null,
   "metadata": {
    "execution": {
     "iopub.execute_input": "2022-07-30T07:10:43.558147Z",
     "iopub.status.busy": "2022-07-30T07:10:43.557715Z",
     "iopub.status.idle": "2022-07-30T07:10:43.565132Z",
     "shell.execute_reply": "2022-07-30T07:10:43.564339Z",
     "shell.execute_reply.started": "2022-07-30T07:10:43.55812Z"
    }
   },
   "outputs": [],
   "source": [
    "from sklearn.metrics import roc_auc_score\n",
    "roc_auc_score(y_test,y_pred_proba)"
   ]
  },
  {
   "cell_type": "markdown",
   "metadata": {},
   "source": [
    "# Clustering to find what kinds of positive type we have"
   ]
  },
  {
   "cell_type": "markdown",
   "metadata": {},
   "source": [
    "I mada data frame which includes only positive case."
   ]
  },
  {
   "cell_type": "code",
   "execution_count": null,
   "metadata": {
    "execution": {
     "iopub.execute_input": "2022-07-30T07:10:43.56711Z",
     "iopub.status.busy": "2022-07-30T07:10:43.566564Z",
     "iopub.status.idle": "2022-07-30T07:10:43.574447Z",
     "shell.execute_reply": "2022-07-30T07:10:43.573753Z",
     "shell.execute_reply.started": "2022-07-30T07:10:43.567071Z"
    }
   },
   "outputs": [],
   "source": [
    "df_cancer=df[df['LUNG_CANCER']==1]\n",
    "df_cancer=df.drop('LUNG_CANCER',axis=1)"
   ]
  },
  {
   "cell_type": "code",
   "execution_count": null,
   "metadata": {
    "execution": {
     "iopub.execute_input": "2022-07-30T07:10:43.576241Z",
     "iopub.status.busy": "2022-07-30T07:10:43.57573Z",
     "iopub.status.idle": "2022-07-30T07:10:43.588432Z",
     "shell.execute_reply": "2022-07-30T07:10:43.5873Z",
     "shell.execute_reply.started": "2022-07-30T07:10:43.576207Z"
    }
   },
   "outputs": [],
   "source": [
    "df_cancer_sc=sc.fit_transform(df_cancer)"
   ]
  },
  {
   "cell_type": "markdown",
   "metadata": {},
   "source": [
    "Elbow analysis to find the number of cluster"
   ]
  },
  {
   "cell_type": "code",
   "execution_count": null,
   "metadata": {
    "execution": {
     "iopub.execute_input": "2022-07-30T07:10:43.590611Z",
     "iopub.status.busy": "2022-07-30T07:10:43.589631Z",
     "iopub.status.idle": "2022-07-30T07:10:44.370183Z",
     "shell.execute_reply": "2022-07-30T07:10:44.369002Z",
     "shell.execute_reply.started": "2022-07-30T07:10:43.590581Z"
    }
   },
   "outputs": [],
   "source": [
    "distortions = []\n",
    "\n",
    "for i  in range(1,15):\n",
    "    km = KMeans(n_clusters=i,\n",
    "                init='k-means++',\n",
    "                n_init=10,\n",
    "                max_iter=300,\n",
    "                random_state=0)\n",
    "    km.fit(df_cancer_sc)\n",
    "    distortions.append(km.inertia_)\n",
    "\n",
    "plt.plot(range(1,15),distortions,marker='o')\n",
    "plt.xlabel('Number of clusters')\n",
    "plt.ylabel('Distortion')\n",
    "plt.show()"
   ]
  },
  {
   "cell_type": "markdown",
   "metadata": {},
   "source": [
    "The number of clusters will be 5 or 6. So I tried clustering by 5 clusters."
   ]
  },
  {
   "cell_type": "code",
   "execution_count": null,
   "metadata": {
    "execution": {
     "iopub.execute_input": "2022-07-30T07:10:44.371699Z",
     "iopub.status.busy": "2022-07-30T07:10:44.371465Z",
     "iopub.status.idle": "2022-07-30T07:10:44.410023Z",
     "shell.execute_reply": "2022-07-30T07:10:44.408935Z",
     "shell.execute_reply.started": "2022-07-30T07:10:44.371675Z"
    }
   },
   "outputs": [],
   "source": [
    "kmeans_model = KMeans(n_clusters=5, random_state=10).fit(df_cancer_sc)"
   ]
  },
  {
   "cell_type": "code",
   "execution_count": null,
   "metadata": {
    "execution": {
     "iopub.execute_input": "2022-07-30T07:10:44.411872Z",
     "iopub.status.busy": "2022-07-30T07:10:44.411591Z",
     "iopub.status.idle": "2022-07-30T07:10:44.435063Z",
     "shell.execute_reply": "2022-07-30T07:10:44.433954Z",
     "shell.execute_reply.started": "2022-07-30T07:10:44.411842Z"
    }
   },
   "outputs": [],
   "source": [
    "labels = kmeans_model.labels_\n",
    "df_cancer['cluster']=labels\n",
    "df_cancer.groupby('cluster').mean().T"
   ]
  },
  {
   "cell_type": "code",
   "execution_count": null,
   "metadata": {
    "execution": {
     "iopub.execute_input": "2022-07-30T07:10:44.437269Z",
     "iopub.status.busy": "2022-07-30T07:10:44.436449Z",
     "iopub.status.idle": "2022-07-30T07:10:48.97685Z",
     "shell.execute_reply": "2022-07-30T07:10:48.976273Z",
     "shell.execute_reply.started": "2022-07-30T07:10:44.437243Z"
    }
   },
   "outputs": [],
   "source": [
    "num_list=['GENDER', 'AGE', 'SMOKING', 'YELLOW_FINGERS', 'ANXIETY',\n",
    "       'PEER_PRESSURE', 'CHRONIC DISEASE', 'FATIGUE ', 'ALLERGY ', 'WHEEZING',\n",
    "       'ALCOHOL CONSUMING', 'COUGHING', 'SHORTNESS OF BREATH',\n",
    "       'SWALLOWING DIFFICULTY', 'CHEST PAIN']\n",
    "fig = plt.figure(figsize=(10,20))\n",
    "\n",
    "for i in range(len(num_list)):\n",
    "    plt.subplot(6,3,i+1)\n",
    "    plt.title(num_list[i])\n",
    "    sns.histplot(data=df_cancer,y=df_cancer[num_list[i]],hue='cluster')\n",
    "\n",
    "plt.tight_layout()"
   ]
  },
  {
   "cell_type": "markdown",
   "metadata": {},
   "source": [
    "We can find features of each clusters\n",
    "* Cluster 0 : Occupied by 50% male and 50% female with no smokers. Most people are suffering from 'FATIGUE' and 'WHEEZING'.\n",
    "* Cluster 1 : Relatively more occupied by famale, and average age is the youngest in clusters. More than half of people are 'SMOKING' and feeling 'SHORTNESS OF BREATH'. But on the other hand, most people have 'no' features such as 'ALLERGY ', 'WHEEZING','ALCOHOL CONSUMING', 'COUGHING', 'SWALLOWING DIFFICULTY', 'CHEST PAIN'.\n",
    "* Cluster 2 : Relatively more occupied by male, more than half people aare smoking, and most people have features such as 'YELLOW_FINGERS', 'ANXIETY', 'ALCOHOL CONSUMING', 'SWALLOWING DIFFICULTY' and 'CHEST PAIN'.\n",
    "* Cluster 3 : Most occupied by male and smoking. Most people have features such as 'FATIGUE ', 'ALLERGY ', 'WHEEZING','ALCOHOL CONSUMING', 'COUGHING', 'SHORTNESS OF BREATH', 'CHEST PAIN'.\n",
    "* Cluster 4 : Most occupied by female and smoking. Most people have features such as 'YELLOW_FINGERS', 'ANXIETY', 'PEER_PRESSURE', 'FATIGUE' and 'SWALLOWING DIFFICULTY'."
   ]
  },
  {
   "cell_type": "markdown",
   "metadata": {},
   "source": [
    "Thank you !"
   ]
  }
 ],
 "metadata": {
  "kernelspec": {
   "display_name": "Python 3",
   "language": "python",
   "name": "python3"
  },
  "language_info": {
   "codemirror_mode": {
    "name": "ipython",
    "version": 3
   },
   "file_extension": ".py",
   "mimetype": "text/x-python",
   "name": "python",
   "nbconvert_exporter": "python",
   "pygments_lexer": "ipython3",
   "version": "3.8.8"
  }
 },
 "nbformat": 4,
 "nbformat_minor": 4
}
